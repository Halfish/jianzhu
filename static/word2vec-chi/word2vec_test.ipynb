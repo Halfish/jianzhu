{
 "cells": [
  {
   "cell_type": "code",
   "execution_count": 13,
   "metadata": {
    "collapsed": false,
    "deletable": true,
    "editable": true
   },
   "outputs": [
    {
     "name": "stdout",
     "output_type": "stream",
     "text": [
      "Word2Vec(vocab=96893, size=300, alpha=0.025)\n"
     ]
    }
   ],
   "source": [
    "from gensim.models.word2vec import Word2Vec\n",
    "model = Word2Vec.load('../word2vec_news.model')\n",
    "print model"
   ]
  },
  {
   "cell_type": "code",
   "execution_count": 19,
   "metadata": {
    "collapsed": false,
    "deletable": true,
    "editable": true
   },
   "outputs": [
    {
     "name": "stdout",
     "output_type": "stream",
     "text": [
      "<type 'numpy.ndarray'> (300,)\n",
      "[-0.06857195  0.03670496  0.08114263 -0.07248131 -0.01944047  0.10456606]\n"
     ]
    }
   ],
   "source": [
    "word_emb = model[u\"我们\"]\n",
    "print type(word_emb), word_emb.shape\n",
    "print word_emb[0:6]"
   ]
  },
  {
   "cell_type": "code",
   "execution_count": 20,
   "metadata": {
    "collapsed": false,
    "deletable": true,
    "editable": true
   },
   "outputs": [
    {
     "name": "stdout",
     "output_type": "stream",
     "text": [
      "我会 0.647190392017\n",
      "我要 0.643403828144\n",
      "你们 0.642281115055\n",
      "你 0.6351121068\n",
      "我们 0.608878076077\n",
      "别人 0.55638384819\n",
      "他 0.552731275558\n",
      "人家 0.536365866661\n",
      "他会 0.515222549438\n",
      "她 0.506898343563\n"
     ]
    }
   ],
   "source": [
    "results = model.most_similar(u\"我\")\n",
    "for r in results:\n",
    "    print r[0], r[1]"
   ]
  }
 ],
 "metadata": {
  "kernelspec": {
   "display_name": "Python 2",
   "language": "python",
   "name": "python2"
  },
  "language_info": {
   "codemirror_mode": {
    "name": "ipython",
    "version": 2
   },
   "file_extension": ".py",
   "mimetype": "text/x-python",
   "name": "python",
   "nbconvert_exporter": "python",
   "pygments_lexer": "ipython2",
   "version": "2.7.10"
  }
 },
 "nbformat": 4,
 "nbformat_minor": 2
}
